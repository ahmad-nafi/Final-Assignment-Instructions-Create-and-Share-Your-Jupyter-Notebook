{
  "metadata": {
    "kernelspec": {
      "name": "python",
      "display_name": "Python (Pyodide)",
      "language": "python"
    },
    "language_info": {
      "codemirror_mode": {
        "name": "python",
        "version": 3
      },
      "file_extension": ".py",
      "mimetype": "text/x-python",
      "name": "python",
      "nbconvert_exporter": "python",
      "pygments_lexer": "ipython3",
      "version": "3.8"
    }
  },
  "nbformat_minor": 5,
  "nbformat": 4,
  "cells": [
    {
      "id": "6f974697-dbab-41f0-b73c-f5de90f8c1db",
      "cell_type": "markdown",
      "source": "# Data Science Tools and Ecosystem",
      "metadata": {},
      "attachments": {}
    },
    {
      "id": "bd5b7a6e-1be3-49ec-a81f-48aeeff45a88",
      "cell_type": "markdown",
      "source": "In this notebook, Data Science Tools and Ecosystem are summarized.",
      "metadata": {}
    },
    {
      "id": "56a224cf-bbe1-48ff-97b2-4f67a4f30ea3",
      "cell_type": "markdown",
      "source": "# **Objectives:**\n* Python\n* R\n* SQL\n* Java\n* Julia\n* C/C++\n* JavaScript",
      "metadata": {}
    },
    {
      "id": "88304d9c-3cd9-4fc3-8d4d-5340ca0420ca",
      "cell_type": "markdown",
      "source": "Some of the popular languages that Data Scientists use are:\n1. Python\n2. R\n3. SQL\n4. Java\n5. Scala",
      "metadata": {}
    },
    {
      "id": "27bba5a2-8b19-44ba-a67b-44dbd4a2ed18",
      "cell_type": "markdown",
      "source": "Some of the commonly used libraries used by Data Scientists include:\n1. NumPy\n2. Pandas\n3. Matplotlib\n4. Seaborn\n5. Scikit-learn\n6. TensorFlow\n7. PyTorch\n8. Keras",
      "metadata": {}
    },
    {
      "id": "dbf109f9-9dd6-480c-80de-73c06c145ec1",
      "cell_type": "markdown",
      "source": "| Data Science Tools |\n| --- |\n|Jupyter Notebook|\n|Visual Studio Code|\n|RStudio|",
      "metadata": {}
    },
    {
      "id": "e4ca42a8-c25f-4630-804f-c0390dc32ed3",
      "cell_type": "markdown",
      "source": "### Below are a few examples of evaluating arithmetic expressions in Python",
      "metadata": {}
    },
    {
      "id": "f2dc2d41-9639-4682-b838-6065b5810dae",
      "cell_type": "code",
      "source": "#This a simple arithmetic expression to mutiply then add integers\n(3*4)+5",
      "metadata": {
        "trusted": true
      },
      "outputs": [
        {
          "execution_count": 4,
          "output_type": "execute_result",
          "data": {
            "text/plain": "17"
          },
          "metadata": {}
        }
      ],
      "execution_count": 4
    },
    {
      "id": "4fa8eeb1-23cf-4e59-b30d-df37b06b82be",
      "cell_type": "code",
      "source": "#This will convert 200 minutes to hours by diving by 60\n200/60",
      "metadata": {
        "trusted": true
      },
      "outputs": [
        {
          "execution_count": 6,
          "output_type": "execute_result",
          "data": {
            "text/plain": "3.3333333333333335"
          },
          "metadata": {}
        }
      ],
      "execution_count": 6
    },
    {
      "id": "f9af328c-5c61-4456-b6ff-a1c1ba1e960a",
      "cell_type": "markdown",
      "source": "## Author\nAhmad Nafi' Nadhratan Na'im",
      "metadata": {}
    }
  ]
}